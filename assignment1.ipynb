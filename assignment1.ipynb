{
  "nbformat": 4,
  "nbformat_minor": 0,
  "metadata": {
    "colab": {
      "name": "assignment1.ipynb",
      "provenance": [],
      "authorship_tag": "ABX9TyMGkmCH36aFksm4e2jiJEfd",
      "include_colab_link": true
    },
    "kernelspec": {
      "name": "python3",
      "display_name": "Python 3"
    },
    "language_info": {
      "name": "python"
    }
  },
  "cells": [
    {
      "cell_type": "markdown",
      "metadata": {
        "id": "view-in-github",
        "colab_type": "text"
      },
      "source": [
        "<a href=\"https://colab.research.google.com/github/tarunkumarnahak25/data-science/blob/main/assignment1.ipynb\" target=\"_parent\"><img src=\"https://colab.research.google.com/assets/colab-badge.svg\" alt=\"Open In Colab\"/></a>"
      ]
    },
    {
      "cell_type": "markdown",
      "source": [
        "1. In the below elements which of them are values or an expression? eg:- values can be integer or string and expressions will be mathematical operators.\n",
        " *,'hello',-87.8,- ,/ ,6 \n"
      ],
      "metadata": {
        "id": "MdRAJIsYItBD"
      }
    },
    {
      "cell_type": "markdown",
      "source": [
        "Ans: `Values:`  **'hello'** , **-87.8**, 6\n",
        "\n",
        "  `Expression: ` * , - , / , + "
      ],
      "metadata": {
        "id": "dBgCj4GbJCSa"
      }
    },
    {
      "cell_type": "markdown",
      "source": [
        "2. What is the difference between string and variable?"
      ],
      "metadata": {
        "id": "TSbhc2W1JgWQ"
      }
    },
    {
      "cell_type": "markdown",
      "source": [
        "Ans: \n",
        "\n",
        "`string: ` In python **Strings** are represented using '' or \"\" which acts as value. and can be stored in side a variable.\n",
        "e.g. \"abc\" , \"Name\" \"123abc\"\n",
        "\n",
        "`Variables: ` In Python **Variables** are the named location or tag through which we can access the values. Variable name should give context to the value which are being stored in it.\n",
        "\n",
        "e.g. abc =  10 , name = 'myname' , age = 24,\n"
      ],
      "metadata": {
        "id": "WeWoWuZoJl5B"
      }
    },
    {
      "cell_type": "code",
      "execution_count": 3,
      "metadata": {
        "id": "r0TNoXw_IhD1"
      },
      "outputs": [],
      "source": [
        "# Examples of variables\n",
        "\n",
        "name = 'my name' # String value being stored in the variable name \n",
        "\n",
        "Age = 24 # Integer value stored in variable age\n"
      ]
    },
    {
      "cell_type": "markdown",
      "source": [
        "3. Describe three different data types.\n"
      ],
      "metadata": {
        "id": "ol8JCX1fLXdr"
      }
    },
    {
      "cell_type": "markdown",
      "source": [
        "Ans: \n",
        "\n",
        "a. `Integer:` Integer datatypes which are all the positive and negative number along with zero is considered as **Integers** . It's one of the primary datatypes.\n",
        "\n"
      ],
      "metadata": {
        "id": "VPP7EjUrLaIR"
      }
    },
    {
      "cell_type": "code",
      "source": [
        "# Example of integers\n",
        "num1 = 20\n",
        "\n",
        "num2 = -20\n",
        "\n",
        "num3 = 0\n",
        "\n",
        "print(type(num1))\n",
        "print(type(num2))\n",
        "print(type(num3))"
      ],
      "metadata": {
        "colab": {
          "base_uri": "https://localhost:8080/"
        },
        "id": "kYkE_UR_L4wq",
        "outputId": "de365633-bb72-427c-ffab-862ee672bfd3"
      },
      "execution_count": 5,
      "outputs": [
        {
          "output_type": "stream",
          "name": "stdout",
          "text": [
            "<class 'int'>\n",
            "<class 'int'>\n",
            "<class 'int'>\n"
          ]
        }
      ]
    },
    {
      "cell_type": "markdown",
      "source": [
        "b. `Float : ` In python  real number are considered as the floating point value i.e the  value in which we've the decimal point.\n",
        "\n"
      ],
      "metadata": {
        "id": "JrB9roYmMMK6"
      }
    },
    {
      "cell_type": "code",
      "source": [
        "# Example of float\n",
        "\n",
        "num1 = 12.34\n",
        "num2 = -12.45\n",
        "\n",
        "print(type(num1))\n",
        "print(type(num2))"
      ],
      "metadata": {
        "colab": {
          "base_uri": "https://localhost:8080/"
        },
        "id": "PWNrX50-Mx-W",
        "outputId": "1131c9aa-a22d-46dc-ceee-78146d4a3564"
      },
      "execution_count": 6,
      "outputs": [
        {
          "output_type": "stream",
          "name": "stdout",
          "text": [
            "<class 'float'>\n",
            "<class 'float'>\n"
          ]
        }
      ]
    },
    {
      "cell_type": "markdown",
      "source": [
        "c. `String : ` In python the string datatypes are the datatypes which are enclosed in either '' or \"\".\n",
        "\n"
      ],
      "metadata": {
        "id": "JHhgyOZiM6Px"
      }
    },
    {
      "cell_type": "code",
      "source": [
        "# Example of string datatypes\n",
        "\n",
        "name = \"New name\"\n",
        "greeting  = ' happy new year'\n",
        "\n",
        "print(type(name))\n",
        "print(type(greeting))\n",
        "\n"
      ],
      "metadata": {
        "colab": {
          "base_uri": "https://localhost:8080/"
        },
        "id": "hsuEf1d2QB1z",
        "outputId": "6d0929fd-b5f5-4664-eaf4-dc28603d21ed"
      },
      "execution_count": 7,
      "outputs": [
        {
          "output_type": "stream",
          "name": "stdout",
          "text": [
            "<class 'str'>\n",
            "<class 'str'>\n"
          ]
        }
      ]
    },
    {
      "cell_type": "markdown",
      "source": [
        "4. What is an expression made up of? What do all expressions do?"
      ],
      "metadata": {
        "id": "7PXzBoQxWfRi"
      }
    },
    {
      "cell_type": "markdown",
      "source": [
        "Ans: \n",
        "\n",
        "Expression are made up of variables, operators , function and methods.\n",
        "\n",
        "Example : \n",
        "a = 10\n",
        "\n",
        "a + 10"
      ],
      "metadata": {
        "id": "D3fgNDeIWhkh"
      }
    },
    {
      "cell_type": "code",
      "source": [
        "# Examples of expression in python\n",
        "a =  10 \n",
        "a + 10\n"
      ],
      "metadata": {
        "colab": {
          "base_uri": "https://localhost:8080/"
        },
        "id": "iLuWohFlWzKT",
        "outputId": "27080525-a359-4a23-db37-489aaac9dcea"
      },
      "execution_count": 8,
      "outputs": [
        {
          "output_type": "execute_result",
          "data": {
            "text/plain": [
              "20"
            ]
          },
          "metadata": {},
          "execution_count": 8
        }
      ]
    },
    {
      "cell_type": "markdown",
      "source": [
        "The expression is a combinations of operators and operands that is interpreted to produce some other value. and value can be used later if it's being stored in a variable."
      ],
      "metadata": {
        "id": "Mj3jtU9JXF7s"
      }
    },
    {
      "cell_type": "markdown",
      "source": [
        "5. This assignment statements, like spam = 10. What is the difference between an expression and a statement?\n"
      ],
      "metadata": {
        "id": "FB_eLBzqXScL"
      }
    },
    {
      "cell_type": "markdown",
      "source": [
        "Ans: \n",
        "\n",
        "Every `Expression ` can't be a statement. but Every `Statement` can be an expression.\n",
        "\n",
        "The evaluation of a statement does not changes state.But the execution of a statement changes the state.\n",
        "\n",
        "\n",
        "Evaluation of an expression always produces or returns a result value. whereas in statement may or may not produces or displays a result value , it only does whatever the statement says."
      ],
      "metadata": {
        "id": "KSkLMAMrXWhK"
      }
    },
    {
      "cell_type": "code",
      "source": [
        "# Examples of expression  and statement \n",
        "a = 10 # This is assignment statement it does not return any value\n"
      ],
      "metadata": {
        "id": "UVb-_S4lYBNo"
      },
      "execution_count": 10,
      "outputs": []
    },
    {
      "cell_type": "code",
      "source": [
        "a +  10 # This is the expression which return the value after execution"
      ],
      "metadata": {
        "colab": {
          "base_uri": "https://localhost:8080/"
        },
        "id": "7KggojPyYOIC",
        "outputId": "52f9e2e1-fa67-4220-f9f1-00ffb879a926"
      },
      "execution_count": 11,
      "outputs": [
        {
          "output_type": "execute_result",
          "data": {
            "text/plain": [
              "20"
            ]
          },
          "metadata": {},
          "execution_count": 11
        }
      ]
    },
    {
      "cell_type": "markdown",
      "source": [
        "6. After running the following code, what does the variable bacon contain?\n",
        "\n",
        "bacon = 22\n",
        "\n",
        "bacon + 1\n"
      ],
      "metadata": {
        "id": "iWizqHeQYV0b"
      }
    },
    {
      "cell_type": "code",
      "source": [
        "# The output of the following code is\n",
        "bacon = 22\n",
        "bacon + 1 # result is 22 + 1 = 23\n"
      ],
      "metadata": {
        "colab": {
          "base_uri": "https://localhost:8080/"
        },
        "id": "GWDVDMSoYUeZ",
        "outputId": "81bd51f3-c888-427e-bec4-8745e4a16157"
      },
      "execution_count": 12,
      "outputs": [
        {
          "output_type": "execute_result",
          "data": {
            "text/plain": [
              "23"
            ]
          },
          "metadata": {},
          "execution_count": 12
        }
      ]
    },
    {
      "cell_type": "markdown",
      "source": [
        "7. What should the values of the following two terms be?\n",
        "\n",
        "'spam' + 'spamspam'\n",
        "\n",
        "'spam' * 3\n"
      ],
      "metadata": {
        "id": "eT_V_ppgYhfw"
      }
    },
    {
      "cell_type": "code",
      "source": [
        "result1 =  'spam' + 'spamspam'\n",
        "print(result1) # The result of the following first line of code which is concatination of string using +"
      ],
      "metadata": {
        "colab": {
          "base_uri": "https://localhost:8080/"
        },
        "id": "BASQ1hnQYhLW",
        "outputId": "19fc0281-a008-4bb2-d72d-0ccadf220d0e"
      },
      "execution_count": 14,
      "outputs": [
        {
          "output_type": "stream",
          "name": "stdout",
          "text": [
            "spamspamspam\n"
          ]
        }
      ]
    },
    {
      "cell_type": "code",
      "source": [
        "result2 = 'spam' * 3\n",
        "print(result2) # Rresult of the 2nd line of code which is replication using *"
      ],
      "metadata": {
        "colab": {
          "base_uri": "https://localhost:8080/"
        },
        "id": "dYs_mC-KY5A2",
        "outputId": "5bacc085-c0d4-442b-d796-64eaf83982f7"
      },
      "execution_count": 15,
      "outputs": [
        {
          "output_type": "stream",
          "name": "stdout",
          "text": [
            "spamspamspam\n"
          ]
        }
      ]
    },
    {
      "cell_type": "markdown",
      "source": [
        "8. Why is eggs a valid variable name while 100 is invalid?\n"
      ],
      "metadata": {
        "id": "doWN-L0tZDjK"
      }
    },
    {
      "cell_type": "markdown",
      "source": [
        "Ans: \n",
        "\n",
        "eggs is valid variable name because it follows the rules of the variable name i.e\n",
        "\n",
        "1. Variable name should start with a letter i.e a-z or A-Z\n",
        "\n",
        "2. Variable should not start with the digit.\n",
        "\n",
        "3. Variable names should not have a special symbol like space or tab or other special character.\n",
        "\n",
        "4. To separate the letter we can use _ (underscore) \n",
        "\n",
        "that's the reason why eggs are considered as a variable name while 100 whose first character is a digit which voilates the rules of variable that's why it's not considered as a variable name and it's a `value`."
      ],
      "metadata": {
        "id": "dSdMriSjZHGs"
      }
    },
    {
      "cell_type": "markdown",
      "source": [
        "9. What three functions can be used to get the integer, floating-point number, or string version of a value?\n"
      ],
      "metadata": {
        "id": "-DqiQKIKZ__W"
      }
    },
    {
      "cell_type": "markdown",
      "source": [
        "Ans: \n",
        "\n",
        "The three function that we can use to get the integer, floating point or the string version of a value are given below\n",
        "\n",
        "\n",
        "1. int() - > using this function we can get the integer version of the value.\n",
        "\n",
        "2. float() - > using this function we can get the floating version of the value\n",
        "\n",
        "3. str() -> using this function we can get the string version of the value.\n",
        "\n",
        "Let's see using the example below :"
      ],
      "metadata": {
        "id": "w0SXuxb4aBLv"
      }
    },
    {
      "cell_type": "code",
      "source": [
        "num1 =  12\n",
        "\n",
        "print(int(num1)) # Get the integer version of the value\n",
        "print(float(num1)) # Ge the floating version of the value\n",
        "print(str(num1))  # Get the string version of the value\n",
        "\n",
        "\n",
        "#  Checking the type of the variables\n",
        "print(type(int(num1)))\n",
        "print(type(float(num1)))\n",
        "print(type(str(num1)))"
      ],
      "metadata": {
        "colab": {
          "base_uri": "https://localhost:8080/"
        },
        "id": "Pq0MJZIPacQz",
        "outputId": "d927db43-9ff7-4ad0-dd14-1f5ac066f540"
      },
      "execution_count": 17,
      "outputs": [
        {
          "output_type": "stream",
          "name": "stdout",
          "text": [
            "12\n",
            "12.0\n",
            "12\n",
            "<class 'int'>\n",
            "<class 'float'>\n",
            "<class 'str'>\n"
          ]
        }
      ]
    },
    {
      "cell_type": "markdown",
      "source": [
        "10. Why does this expression cause an error? How can you fix it?\n",
        "'I have eaten ' + 99 + ' burritos.'\n"
      ],
      "metadata": {
        "id": "coYZ9yf9a4Sa"
      }
    },
    {
      "cell_type": "code",
      "source": [
        "# This gives an error because we cannot add the string value to the integer value or vice versa is not possible in python\n",
        "'I have eaten ' + 99 + ' burritos.'\n",
        "\n",
        "\n"
      ],
      "metadata": {
        "colab": {
          "base_uri": "https://localhost:8080/",
          "height": 170
        },
        "id": "3lU0oV_ra7E7",
        "outputId": "e75cb7f4-16b9-4fd3-ff65-6894e1294596"
      },
      "execution_count": 18,
      "outputs": [
        {
          "output_type": "error",
          "ename": "TypeError",
          "evalue": "ignored",
          "traceback": [
            "\u001b[0;31m---------------------------------------------------------------------------\u001b[0m",
            "\u001b[0;31mTypeError\u001b[0m                                 Traceback (most recent call last)",
            "\u001b[0;32m<ipython-input-18-1d21f79f3474>\u001b[0m in \u001b[0;36m<module>\u001b[0;34m()\u001b[0m\n\u001b[0;32m----> 1\u001b[0;31m \u001b[0mresult\u001b[0m  \u001b[0;34m=\u001b[0m \u001b[0;34m'I have eaten '\u001b[0m \u001b[0;34m+\u001b[0m \u001b[0;36m99\u001b[0m \u001b[0;34m+\u001b[0m \u001b[0;34m' burritos.'\u001b[0m\u001b[0;34m\u001b[0m\u001b[0;34m\u001b[0m\u001b[0m\n\u001b[0m",
            "\u001b[0;31mTypeError\u001b[0m: can only concatenate str (not \"int\") to str"
          ]
        }
      ]
    },
    {
      "cell_type": "code",
      "source": [
        "\n",
        "# To fix this error in datatypes in value of code we can convert the 99 into string and we can perform the addtion\n",
        "\n",
        "'I have eaten ' + '99' + ' burritos.'\n",
        "\n",
        "# Now error has been fixed.\n"
      ],
      "metadata": {
        "colab": {
          "base_uri": "https://localhost:8080/",
          "height": 35
        },
        "id": "LBGIOJeWbU9X",
        "outputId": "30975bdd-ac27-4b67-e08d-a374043c9fa4"
      },
      "execution_count": 19,
      "outputs": [
        {
          "output_type": "execute_result",
          "data": {
            "application/vnd.google.colaboratory.intrinsic+json": {
              "type": "string"
            },
            "text/plain": [
              "'I have eaten 99 burritos.'"
            ]
          },
          "metadata": {},
          "execution_count": 19
        }
      ]
    },
    {
      "cell_type": "markdown",
      "source": [
        ""
      ],
      "metadata": {
        "id": "Vy9GwtlDIsKm"
      }
    }
  ]
}