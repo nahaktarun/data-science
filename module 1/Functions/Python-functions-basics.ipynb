{
 "cells": [
  {
   "cell_type": "markdown",
   "metadata": {},
   "source": [
    "# Python Functions\n",
    "\n",
    "Function is a group of related statement that perform a specific task\n",
    "\n",
    "Function help break our program into smaller and modular chunks. As our program grows larger and larger, function make it more organized and manageable\n",
    "\n",
    "it avoid repetation and makes code reusable"
   ]
  },
  {
   "cell_type": "markdown",
   "metadata": {},
   "source": [
    "## Syntex"
   ]
  },
  {
   "cell_type": "markdown",
   "metadata": {},
   "source": [
    "def function_name(parameter):\n",
    "    \"\"\"\n",
    "    Doc String\n",
    "    \"\"\"\n",
    "    Statement(s)\n",
    "\n",
    "1. Keywords \"def\" marks the start of function header\n",
    "2. Parameter(arguments) through which we pass values to a function. These are optional\n",
    "3. A colon(:) to mark the end of function header.\n",
    "4. Doc string describe what the function does. This is option\n",
    "5. \"return\" Statement to return a value from the function. This is optional"
   ]
  },
  {
   "cell_type": "markdown",
   "metadata": {},
   "source": [
    "# Example:"
   ]
  },
  {
   "cell_type": "code",
   "execution_count": 1,
   "metadata": {},
   "outputs": [],
   "source": [
    "def print_name(name):\n",
    "    \"\"\"\n",
    "    This function prints the name\n",
    "    \"\"\"\n",
    "    print(\"Hello \"+ str(name))"
   ]
  },
  {
   "cell_type": "markdown",
   "metadata": {},
   "source": [
    "## Function Call\n",
    "\n",
    "once we have defined a function, we can call it from anywhere"
   ]
  },
  {
   "cell_type": "code",
   "execution_count": 2,
   "metadata": {},
   "outputs": [
    {
     "name": "stdout",
     "output_type": "stream",
     "text": [
      "Hello satish\n"
     ]
    }
   ],
   "source": [
    "print_name('satish')"
   ]
  },
  {
   "cell_type": "markdown",
   "metadata": {},
   "source": [
    "### Doc String"
   ]
  },
  {
   "cell_type": "markdown",
   "metadata": {},
   "source": [
    "The first string after the function header is called the docstring and is short for documentation string\n",
    "\n",
    "Although optional, documentation is a good programming practics, always document you code\n",
    "\n",
    "doc string will be writeen in triple quotes so that docstring can extend up to multiple line"
   ]
  },
  {
   "cell_type": "code",
   "execution_count": 3,
   "metadata": {},
   "outputs": [
    {
     "name": "stdout",
     "output_type": "stream",
     "text": [
      "\n",
      "    This function prints the name\n",
      "    \n"
     ]
    }
   ],
   "source": [
    "print(print_name.__doc__)"
   ]
  },
  {
   "cell_type": "markdown",
   "metadata": {},
   "source": [
    "## Return Statement\n",
    "\n",
    "The return statement is used to exit a function and go bac to the place from where it was called"
   ]
  },
  {
   "cell_type": "markdown",
   "metadata": {},
   "source": [
    "    Syntex:\n",
    "        return [expression]\n",
    "        \n",
    "* return statement can contain an expression which gets evaluated and the value is returned.\n",
    "* if there is no expression in the statement or the return statement itself is not present inside a function, then the function will return none object"
   ]
  },
  {
   "cell_type": "code",
   "execution_count": 4,
   "metadata": {},
   "outputs": [],
   "source": [
    "def get_sum(lst):\n",
    "    \"\"\"\n",
    "    This function returns the sum of all the elements in a list\n",
    "    \"\"\"\n",
    "    #initialize sum\n",
    "    _sum = 0\n",
    "    \n",
    "    #iterating over the list\n",
    "    for num in lst:\n",
    "        _sum += num\n",
    "    return _sum"
   ]
  },
  {
   "cell_type": "code",
   "execution_count": 5,
   "metadata": {},
   "outputs": [
    {
     "name": "stdout",
     "output_type": "stream",
     "text": [
      "10\n"
     ]
    }
   ],
   "source": [
    "s = get_sum([1,2,3,4])\n",
    "print(s)"
   ]
  },
  {
   "cell_type": "markdown",
   "metadata": {},
   "source": [
    "## Scope and life time of variables\n",
    "\n",
    "* Scope of a variable is the portion of a program where the variable is recognized.\n",
    "* variable defined inside a function is not visible from outside. Hence, they have a local scope.\n",
    "* Lifetime of a variable is the period throughout which the variable exits in the memory.\n",
    "* The lifetime of variable inside a function is as long as the function executes.\n",
    "* variable are destroyed once we return from the function"
   ]
  },
  {
   "cell_type": "markdown",
   "metadata": {},
   "source": [
    " # Types of functions\n",
    " \n",
    " 1. Built-in Functions\n",
    " 2. User-defined functions"
   ]
  },
  {
   "cell_type": "markdown",
   "metadata": {},
   "source": [
    "## 1. abs()"
   ]
  },
  {
   "cell_type": "code",
   "execution_count": 6,
   "metadata": {},
   "outputs": [
    {
     "name": "stdout",
     "output_type": "stream",
     "text": [
      "100\n"
     ]
    }
   ],
   "source": [
    "#find the absolute value\n",
    "num = -100\n",
    "print(abs(num))"
   ]
  },
  {
   "cell_type": "markdown",
   "metadata": {},
   "source": [
    "## 2. all()\n",
    "\n",
    "return value of all() function\n",
    "\n",
    "True: if all elements in an iterable are true\n",
    "\n",
    "False: if any element is an iterable is false"
   ]
  },
  {
   "cell_type": "code",
   "execution_count": 7,
   "metadata": {},
   "outputs": [
    {
     "name": "stdout",
     "output_type": "stream",
     "text": [
      "True\n"
     ]
    }
   ],
   "source": [
    "lst = [1,2,3,4]\n",
    "print(all(lst))"
   ]
  },
  {
   "cell_type": "code",
   "execution_count": 8,
   "metadata": {},
   "outputs": [
    {
     "name": "stdout",
     "output_type": "stream",
     "text": [
      "False\n"
     ]
    }
   ],
   "source": [
    "lst = (0,2,3,4)\n",
    "print(all(lst))"
   ]
  },
  {
   "cell_type": "code",
   "execution_count": 9,
   "metadata": {},
   "outputs": [
    {
     "name": "stdout",
     "output_type": "stream",
     "text": [
      "True\n"
     ]
    }
   ],
   "source": [
    "lst = []\n",
    "print(all(lst))"
   ]
  },
  {
   "cell_type": "code",
   "execution_count": 10,
   "metadata": {},
   "outputs": [
    {
     "name": "stdout",
     "output_type": "stream",
     "text": [
      "False\n"
     ]
    }
   ],
   "source": [
    "lst = [False,1,2]\n",
    "print(all(lst))"
   ]
  },
  {
   "cell_type": "markdown",
   "metadata": {},
   "source": [
    "## dir()\n",
    "\n",
    "The dir() tries to return a list of valid attributes of the object.\n",
    "\n",
    "if the object has dir() method, the method will be called and must return the list of attributes.\n",
    "\n",
    "if the object doesn't have dir() method, this method tries to find information from the dict attribute (if defined), and from type object. In this case, the list returned from dir() may not be complete"
   ]
  },
  {
   "cell_type": "code",
   "execution_count": 11,
   "metadata": {},
   "outputs": [
    {
     "name": "stdout",
     "output_type": "stream",
     "text": [
      "['__add__', '__class__', '__contains__', '__delattr__', '__delitem__', '__dir__', '__doc__', '__eq__', '__format__', '__ge__', '__getattribute__', '__getitem__', '__gt__', '__hash__', '__iadd__', '__imul__', '__init__', '__init_subclass__', '__iter__', '__le__', '__len__', '__lt__', '__mul__', '__ne__', '__new__', '__reduce__', '__reduce_ex__', '__repr__', '__reversed__', '__rmul__', '__setattr__', '__setitem__', '__sizeof__', '__str__', '__subclasshook__', 'append', 'clear', 'copy', 'count', 'extend', 'index', 'insert', 'pop', 'remove', 'reverse', 'sort']\n"
     ]
    }
   ],
   "source": [
    "numbers = [1,2,3]\n",
    "print(dir(numbers))"
   ]
  },
  {
   "cell_type": "markdown",
   "metadata": {},
   "source": [
    "## divmod()\n",
    "\n",
    "The divmod() methods takes two numbers and returns a pair of numbers(a tuple) consisting of their quotient and remainder"
   ]
  },
  {
   "cell_type": "code",
   "execution_count": 12,
   "metadata": {},
   "outputs": [
    {
     "name": "stdout",
     "output_type": "stream",
     "text": [
      "(4, 1)\n"
     ]
    }
   ],
   "source": [
    "print(divmod(9,2))"
   ]
  },
  {
   "cell_type": "markdown",
   "metadata": {},
   "source": [
    "## enumerate()\n",
    "\n",
    "The enumurate() method adds counter to an iterable and returns it\n",
    "\n",
    "syntex: enumerate(iterable, start = 0)"
   ]
  },
  {
   "cell_type": "code",
   "execution_count": 1,
   "metadata": {},
   "outputs": [
    {
     "name": "stdout",
     "output_type": "stream",
     "text": [
      "index 0 has value 10\n",
      "index 1 has value 20\n",
      "index 2 has value 30\n",
      "index 3 has value 40\n"
     ]
    }
   ],
   "source": [
    "numbers = [10,20,30,40]\n",
    "for index, num in enumerate(numbers):\n",
    "    print(\"index {0} has value {1}\".format(index,num))"
   ]
  },
  {
   "cell_type": "markdown",
   "metadata": {},
   "source": [
    "## filter()\n",
    "\n",
    "the filter() method constructs an iterator from elements of an iterable for which function returns true.\n",
    "\n",
    "syntex: filter(function,iterable)"
   ]
  },
  {
   "cell_type": "code",
   "execution_count": 2,
   "metadata": {},
   "outputs": [],
   "source": [
    "def find_positive_number(num):\n",
    "    \"\"\"\n",
    "    This function return the postive number if num is positive\n",
    "    \"\"\"\n",
    "    if num > 0:\n",
    "        return num"
   ]
  },
  {
   "cell_type": "code",
   "execution_count": 5,
   "metadata": {},
   "outputs": [
    {
     "name": "stdout",
     "output_type": "stream",
     "text": [
      "[-10, -9, -8, -7, -6, -5, -4, -3, -2, -1, 0, 1, 2, 3, 4, 5, 6, 7, 8, 9]\n",
      "[1, 2, 3, 4, 5, 6, 7, 8, 9]\n"
     ]
    }
   ],
   "source": [
    "num_list = range(-10,10)\n",
    "print(list(num_list))\n",
    "\n",
    "positive_num_list = list(filter(find_positive_number,num_list))\n",
    "print(positive_num_list)"
   ]
  },
  {
   "cell_type": "markdown",
   "metadata": {},
   "source": [
    "## isinstance()\n",
    "\n",
    "the isinstance() function checks if the object (first argument) is an instance or subclass of classinfo class (second argument)\n",
    "\n",
    "syntex: isinstance(object,classinfo)"
   ]
  },
  {
   "cell_type": "code",
   "execution_count": 7,
   "metadata": {},
   "outputs": [
    {
     "name": "stdout",
     "output_type": "stream",
     "text": [
      "True\n",
      "False\n"
     ]
    }
   ],
   "source": [
    "lst = [1,2,3,4]\n",
    "print(isinstance(lst,list))\n",
    "\n",
    "t = (1,2,3,4)\n",
    "print(isinstance(t,list))"
   ]
  },
  {
   "cell_type": "markdown",
   "metadata": {},
   "source": [
    "## map()\n",
    "\n",
    "map applies a function to all the items in an input_list.\n",
    "\n",
    "syntex: map(function_to_apply,list_of_inputs)"
   ]
  },
  {
   "cell_type": "code",
   "execution_count": 8,
   "metadata": {},
   "outputs": [
    {
     "name": "stdout",
     "output_type": "stream",
     "text": [
      "[1, 4, 9, 16]\n"
     ]
    }
   ],
   "source": [
    "numbers = [1,2,3,4]\n",
    "\n",
    "def powerOfTwo(num):\n",
    "    return num**2\n",
    "\n",
    "squared = list(map(powerOfTwo,numbers))\n",
    "print(squared)"
   ]
  },
  {
   "cell_type": "markdown",
   "metadata": {},
   "source": [
    "## reduce()\n",
    "\n",
    "reduce() function is for performing some computation on a list and returning the result.\n",
    "\n",
    "it applies a rolling computation to sequential pairs of values in a list.\n",
    "\n"
   ]
  },
  {
   "cell_type": "code",
   "execution_count": 9,
   "metadata": {},
   "outputs": [
    {
     "name": "stdout",
     "output_type": "stream",
     "text": [
      "24\n"
     ]
    }
   ],
   "source": [
    "from functools import reduce\n",
    "\n",
    "def multiply(x,y):\n",
    "    return x*y\n",
    "\n",
    "product =  reduce(multiply,lst)\n",
    "print(product)"
   ]
  },
  {
   "cell_type": "markdown",
   "metadata": {},
   "source": [
    "# 2. User defined functions\n",
    "\n"
   ]
  },
  {
   "cell_type": "markdown",
   "metadata": {},
   "source": [
    "`Advantages\n",
    "\n",
    "1. User-defined functions helps to decompose a large program into small segments which makes program easy to understand, maintain and debug.\n",
    "2. if repeated code occures in a program. Function can be used to include those codes and execute when needed by calling that function.\n",
    "3. Programmer working on large project can divide the workload by making different functions."
   ]
  },
  {
   "cell_type": "markdown",
   "metadata": {},
   "source": [
    "## Example:"
   ]
  },
  {
   "cell_type": "code",
   "execution_count": 10,
   "metadata": {},
   "outputs": [
    {
     "name": "stdout",
     "output_type": "stream",
     "text": [
      "product of numbers 20 and 30 is : 600\n"
     ]
    }
   ],
   "source": [
    "def product_numbers(a,b):\n",
    "    \"\"\"\n",
    "    this function returns the product of two number\n",
    "    \"\"\"\n",
    "    product =  a*b\n",
    "    return product\n",
    "\n",
    "num1 = 20\n",
    "num2 = 30\n",
    "print(\"product of numbers {0} and {1} is : {2}\".format(num1,num2,product_numbers(num1,num2)))"
   ]
  },
  {
   "cell_type": "markdown",
   "metadata": {},
   "source": [
    "### program for the simple calculator\n",
    "\n"
   ]
  },
  {
   "cell_type": "code",
   "execution_count": 11,
   "metadata": {},
   "outputs": [],
   "source": [
    "def add(a,b):\n",
    "    \"\"\"\n",
    "    This function adds two numbers\n",
    "    \"\"\"\n",
    "    return a+b\n",
    "def sub(a,b):\n",
    "    \"\"\"\n",
    "    This function substract two numbers\n",
    "    \"\"\"\n",
    "    return a-b\n",
    "def mul(a,b):\n",
    "    \"\"\"\n",
    "    This function multiply two numbers\n",
    "    \"\"\"\n",
    "    return a*b\n",
    "def div(a,b):\n",
    "    \"\"\"\n",
    "    This function divides two numbers\n",
    "    \"\"\"\n",
    "    return a/b\n",
    "def mod(a,b):\n",
    "    \"\"\"\n",
    "    This function get remainder of two number\n",
    "    \"\"\"\n",
    "    return a%b"
   ]
  },
  {
   "cell_type": "code",
   "execution_count": null,
   "metadata": {},
   "outputs": [],
   "source": []
  }
 ],
 "metadata": {
  "kernelspec": {
   "display_name": "Python 3",
   "language": "python",
   "name": "python3"
  },
  "language_info": {
   "codemirror_mode": {
    "name": "ipython",
    "version": 3
   },
   "file_extension": ".py",
   "mimetype": "text/x-python",
   "name": "python",
   "nbconvert_exporter": "python",
   "pygments_lexer": "ipython3",
   "version": "3.7.6"
  }
 },
 "nbformat": 4,
 "nbformat_minor": 4
}
