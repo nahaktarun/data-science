{
 "cells": [
  {
   "cell_type": "markdown",
   "metadata": {},
   "source": [
    "# File I/O\n",
    "\n",
    "File is a named location on disk to store related information. it is used to permanently store data in a non-volatile memory (e.g hard disk)\n",
    "\n",
    "Since, random access memory (RAM) is volatile which loses its data when computer is turned off, we use file for future use of data.\n",
    "\n",
    "When we want to read from or write to a file we need to open it first. When we're done, it needs to be closed, so that resources that are tied with the file are freed.\n",
    "\n",
    "File Operation:\n",
    "\n",
    "    1. Open a file\n",
    "    2. Read or write (perform operation)\n",
    "    3. Close the file\n",
    "    "
   ]
  },
  {
   "cell_type": "markdown",
   "metadata": {},
   "source": [
    "## Opening a FIle\n",
    "\n",
    "Python has a built-in function open() to open a file. This function returns a file object, also called a handle, as it is used to read or modify the file accordingly.\n"
   ]
  },
  {
   "cell_type": "code",
   "execution_count": 2,
   "metadata": {},
   "outputs": [],
   "source": [
    "f = open(\"example.txt\",'w')"
   ]
  },
  {
   "cell_type": "markdown",
   "metadata": {},
   "source": [
    "## Python file modes\n",
    "\n",
    "'r' Open a file for reading.  (Default)\n",
    "\n",
    "'w' Open a file for writing. Creates a new file if it does not exist \n",
    "or truncated the file if it exists.\n",
    "\n",
    "'x' Open a file for exclusive creating. If the file already exists.\n",
    "\n",
    "'a' Open for appending at the end of the file without truncating it. Creates a new file if it does not exist.\n",
    "\n",
    "'t' Open in text mode. (default)\n",
    "\n",
    "'b' Open in binary mode.\n",
    "\n",
    "'+' Open a file for uploading(Reading and writing)"
   ]
  },
  {
   "cell_type": "code",
   "execution_count": null,
   "metadata": {},
   "outputs": [],
   "source": []
  }
 ],
 "metadata": {
  "kernelspec": {
   "display_name": "Python 3",
   "language": "python",
   "name": "python3"
  },
  "language_info": {
   "codemirror_mode": {
    "name": "ipython",
    "version": 3
   },
   "file_extension": ".py",
   "mimetype": "text/x-python",
   "name": "python",
   "nbconvert_exporter": "python",
   "pygments_lexer": "ipython3",
   "version": "3.7.6"
  }
 },
 "nbformat": 4,
 "nbformat_minor": 4
}
